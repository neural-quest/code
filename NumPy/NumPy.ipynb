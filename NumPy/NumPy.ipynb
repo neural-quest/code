{
 "cells": [
  {
   "cell_type": "markdown",
   "id": "97188a00",
   "metadata": {},
   "source": [
    "# 1. NumPy is a python package"
   ]
  },
  {
   "cell_type": "markdown",
   "id": "6dc11e6c",
   "metadata": {},
   "source": [
    "# 2. NumPy = Numerical Python"
   ]
  },
  {
   "cell_type": "markdown",
   "id": "373ea2a2",
   "metadata": {},
   "source": [
    "# 3. It is broadly used for mathematical, logical and scientific            calculation"
   ]
  },
  {
   "cell_type": "markdown",
   "id": "b68d26a6",
   "metadata": {},
   "source": [
    "# 4. It has very useful built-in functions"
   ]
  },
  {
   "cell_type": "markdown",
   "id": "feaf9e6a",
   "metadata": {},
   "source": [
    "# 5. NumPy Array is faster than Python list"
   ]
  },
  {
   "cell_type": "markdown",
   "id": "c226aa75",
   "metadata": {},
   "source": [
    "# 6. Using NumPy we can solve many types of problems and equations"
   ]
  },
  {
   "cell_type": "markdown",
   "id": "05d508c2",
   "metadata": {},
   "source": [
    "# 7. NumPy arrays"
   ]
  },
  {
   "cell_type": "markdown",
   "id": "a28619ad",
   "metadata": {},
   "source": [
    "## Scalar(Zero dimentional entity)"
   ]
  },
  {
   "cell_type": "code",
   "execution_count": null,
   "id": "6ab58be0",
   "metadata": {},
   "outputs": [],
   "source": [
    "!pip install numpy     #If you're using command prompt / terminal just type pip install numpy"
   ]
  },
  {
   "cell_type": "code",
   "execution_count": 1,
   "id": "79c871ea",
   "metadata": {},
   "outputs": [],
   "source": [
    "import numpy as np"
   ]
  },
  {
   "cell_type": "code",
   "execution_count": 2,
   "id": "a38e60f7",
   "metadata": {},
   "outputs": [],
   "source": [
    "import numpy as np"
   ]
  },
  {
   "cell_type": "code",
   "execution_count": 3,
   "id": "861867ce",
   "metadata": {},
   "outputs": [],
   "source": [
    "x = np.array(45)"
   ]
  },
  {
   "cell_type": "code",
   "execution_count": 4,
   "id": "58f48836",
   "metadata": {},
   "outputs": [
    {
     "data": {
      "text/plain": [
       "0"
      ]
     },
     "execution_count": 4,
     "metadata": {},
     "output_type": "execute_result"
    }
   ],
   "source": [
    "x.ndim"
   ]
  },
  {
   "cell_type": "markdown",
   "id": "1c95414a",
   "metadata": {},
   "source": [
    "## 1D Array / Vectors"
   ]
  },
  {
   "cell_type": "code",
   "execution_count": 5,
   "id": "a4d8577a",
   "metadata": {},
   "outputs": [],
   "source": [
    "x = np.array([23,43,67,42])"
   ]
  },
  {
   "cell_type": "code",
   "execution_count": 6,
   "id": "b7c798ab",
   "metadata": {},
   "outputs": [
    {
     "data": {
      "text/plain": [
       "1"
      ]
     },
     "execution_count": 6,
     "metadata": {},
     "output_type": "execute_result"
    }
   ],
   "source": [
    "x.ndim"
   ]
  },
  {
   "cell_type": "code",
   "execution_count": 8,
   "id": "594ccf10",
   "metadata": {},
   "outputs": [
    {
     "data": {
      "text/plain": [
       "23"
      ]
     },
     "execution_count": 8,
     "metadata": {},
     "output_type": "execute_result"
    }
   ],
   "source": [
    "x[0]"
   ]
  },
  {
   "cell_type": "code",
   "execution_count": 10,
   "id": "55da22f9",
   "metadata": {},
   "outputs": [
    {
     "data": {
      "text/plain": [
       "67"
      ]
     },
     "execution_count": 10,
     "metadata": {},
     "output_type": "execute_result"
    }
   ],
   "source": [
    "x[2]"
   ]
  },
  {
   "cell_type": "markdown",
   "id": "396f841e",
   "metadata": {},
   "source": [
    "## 2D Array / Matrix"
   ]
  },
  {
   "cell_type": "code",
   "execution_count": 11,
   "id": "ddfb2d37",
   "metadata": {},
   "outputs": [],
   "source": [
    "x = np.array([[1,2],[4,5],[3,7]])"
   ]
  },
  {
   "cell_type": "code",
   "execution_count": 12,
   "id": "c84f7e67",
   "metadata": {},
   "outputs": [
    {
     "data": {
      "text/plain": [
       "2"
      ]
     },
     "execution_count": 12,
     "metadata": {},
     "output_type": "execute_result"
    }
   ],
   "source": [
    "x.ndim"
   ]
  },
  {
   "cell_type": "markdown",
   "id": "422942df",
   "metadata": {},
   "source": [
    "## 3D Array / Tensor"
   ]
  },
  {
   "cell_type": "code",
   "execution_count": 13,
   "id": "e22d832b",
   "metadata": {},
   "outputs": [],
   "source": [
    "x = np.array([[[1,2],[3,4]],[[5,6],[7,8]]])"
   ]
  },
  {
   "cell_type": "code",
   "execution_count": 14,
   "id": "fb865852",
   "metadata": {},
   "outputs": [
    {
     "data": {
      "text/plain": [
       "3"
      ]
     },
     "execution_count": 14,
     "metadata": {},
     "output_type": "execute_result"
    }
   ],
   "source": [
    "x.ndim"
   ]
  },
  {
   "cell_type": "code",
   "execution_count": null,
   "id": "c1fc2080",
   "metadata": {},
   "outputs": [],
   "source": []
  }
 ],
 "metadata": {
  "kernelspec": {
   "display_name": "Python 3 (ipykernel)",
   "language": "python",
   "name": "python3"
  },
  "language_info": {
   "codemirror_mode": {
    "name": "ipython",
    "version": 3
   },
   "file_extension": ".py",
   "mimetype": "text/x-python",
   "name": "python",
   "nbconvert_exporter": "python",
   "pygments_lexer": "ipython3",
   "version": "3.8.13"
  }
 },
 "nbformat": 4,
 "nbformat_minor": 5
}
