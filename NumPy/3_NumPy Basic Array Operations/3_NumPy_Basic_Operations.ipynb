{
 "cells": [
  {
   "cell_type": "code",
   "execution_count": 5,
   "id": "c1fc2080",
   "metadata": {},
   "outputs": [],
   "source": [
    "import numpy as np"
   ]
  },
  {
   "cell_type": "code",
   "execution_count": 6,
   "id": "98097ac4",
   "metadata": {},
   "outputs": [
    {
     "data": {
      "text/plain": [
       "array([ 1.  ,  5.75, 10.5 , 15.25, 20.  ])"
      ]
     },
     "execution_count": 6,
     "metadata": {},
     "output_type": "execute_result"
    }
   ],
   "source": [
    "np.linspace(1,20,5)"
   ]
  },
  {
   "cell_type": "code",
   "execution_count": 9,
   "id": "ff9bcced",
   "metadata": {},
   "outputs": [
    {
     "data": {
      "text/plain": [
       "array([[1., 0., 0., 0.],\n",
       "       [0., 1., 0., 0.],\n",
       "       [0., 0., 1., 0.]])"
      ]
     },
     "execution_count": 9,
     "metadata": {},
     "output_type": "execute_result"
    }
   ],
   "source": [
    "np.eye(3,4)"
   ]
  },
  {
   "cell_type": "code",
   "execution_count": 10,
   "id": "9fa7bf14",
   "metadata": {},
   "outputs": [
    {
     "data": {
      "text/plain": [
       "array([[10,  0,  0,  0],\n",
       "       [ 0, 20,  0,  0],\n",
       "       [ 0,  0, 30,  0],\n",
       "       [ 0,  0,  0, 40]])"
      ]
     },
     "execution_count": 10,
     "metadata": {},
     "output_type": "execute_result"
    }
   ],
   "source": [
    "np.diag([10,20,30,40])"
   ]
  },
  {
   "cell_type": "code",
   "execution_count": 16,
   "id": "8645c140",
   "metadata": {},
   "outputs": [],
   "source": [
    "x = np.array([[1,2],[3,4]])"
   ]
  },
  {
   "cell_type": "code",
   "execution_count": 17,
   "id": "66945c7a",
   "metadata": {},
   "outputs": [
    {
     "data": {
      "text/plain": [
       "array([[1, 2],\n",
       "       [3, 4]])"
      ]
     },
     "execution_count": 17,
     "metadata": {},
     "output_type": "execute_result"
    }
   ],
   "source": [
    "x"
   ]
  },
  {
   "cell_type": "code",
   "execution_count": 18,
   "id": "2900055e",
   "metadata": {},
   "outputs": [
    {
     "data": {
      "text/plain": [
       "array([1, 4])"
      ]
     },
     "execution_count": 18,
     "metadata": {},
     "output_type": "execute_result"
    }
   ],
   "source": [
    "np.diag(x)"
   ]
  },
  {
   "cell_type": "code",
   "execution_count": 22,
   "id": "5c8c92a1",
   "metadata": {},
   "outputs": [
    {
     "data": {
      "text/plain": [
       "array([6, 2, 5, 9, 4, 9, 8, 5])"
      ]
     },
     "execution_count": 22,
     "metadata": {},
     "output_type": "execute_result"
    }
   ],
   "source": [
    "np.random.randint(2,10,8)"
   ]
  },
  {
   "cell_type": "code",
   "execution_count": 26,
   "id": "4cb89616",
   "metadata": {},
   "outputs": [
    {
     "data": {
      "text/plain": [
       "array([0.80293598, 0.5222895 , 0.07899895, 0.99552583, 0.23097842,\n",
       "       0.08158585, 0.71462446, 0.58551784, 0.35856011, 0.41618059,\n",
       "       0.8602949 , 0.04889511, 0.89713343, 0.14933684, 0.51416753,\n",
       "       0.40173362, 0.64777544, 0.40357771, 0.23628389, 0.90435452,\n",
       "       0.10921384, 0.17947482, 0.27485052, 0.88120034, 0.90558152,\n",
       "       0.80735245, 0.06788188, 0.25968524, 0.4470812 , 0.86524189,\n",
       "       0.93637937, 0.33958509, 0.84277198, 0.91772956, 0.46714575,\n",
       "       0.24037281, 0.14156517, 0.04993468, 0.11969908, 0.54200534,\n",
       "       0.35480399, 0.54141128, 0.86756243, 0.42663555, 0.41531339,\n",
       "       0.96163287, 0.42965167, 0.56823195, 0.98311104, 0.94417717,\n",
       "       0.70718106, 0.84553395, 0.19137609, 0.64662394, 0.09726989,\n",
       "       0.22786602, 0.63799642, 0.40551772, 0.04421209, 0.37625869,\n",
       "       0.38207333, 0.92079175, 0.63501514, 0.48465283, 0.33749324,\n",
       "       0.60890687, 0.92687913, 0.33500623, 0.0532131 , 0.84595016,\n",
       "       0.0958975 , 0.3860412 , 0.24965152, 0.66449572, 0.33694905,\n",
       "       0.98632986, 0.06367966, 0.16024235, 0.00489701, 0.76157982,\n",
       "       0.23222058, 0.16993369, 0.96212991, 0.33248804, 0.23006253,\n",
       "       0.51741725, 0.52378421, 0.1678078 , 0.80539551, 0.92114438,\n",
       "       0.2626212 , 0.16367896, 0.74353926, 0.36508939, 0.43821738,\n",
       "       0.45560524, 0.51962764, 0.03675755, 0.29906425, 0.08198776])"
      ]
     },
     "execution_count": 26,
     "metadata": {},
     "output_type": "execute_result"
    }
   ],
   "source": [
    "np.random.rand(100)"
   ]
  },
  {
   "cell_type": "code",
   "execution_count": 28,
   "id": "0116f33c",
   "metadata": {},
   "outputs": [
    {
     "data": {
      "text/plain": [
       "array([-0.46799167, -0.85519044, -0.91875467,  0.39038959, -0.12863099,\n",
       "       -2.4266295 , -2.25507438, -1.08000957,  0.58293433,  1.52765049,\n",
       "        0.1123291 , -0.3889834 ,  0.79851548, -1.43539527, -0.32806226,\n",
       "       -0.31451363,  0.47301808, -0.09334938, -0.94781752, -0.37928635,\n",
       "        0.98906162,  0.71889304,  0.19040281,  0.01658037, -2.43964126,\n",
       "       -0.08894029, -0.61950993, -1.6965099 ,  1.18032605,  1.44819602,\n",
       "        0.52865951, -0.76739868, -0.79548555, -0.4963138 , -2.34926766,\n",
       "       -0.24719599,  0.34584012,  0.83180921,  0.17744885,  0.39593997,\n",
       "       -0.01216135,  1.08751814,  1.01422851,  2.31495003, -0.67886787,\n",
       "        1.28797226, -1.14011347,  0.30556952,  1.75026608, -0.50779682,\n",
       "       -2.08081811,  0.35997125,  0.56225874,  0.76386268,  1.5286401 ,\n",
       "       -2.5933933 , -0.68721886, -0.54026614,  0.62268002,  0.35213142])"
      ]
     },
     "execution_count": 28,
     "metadata": {},
     "output_type": "execute_result"
    }
   ],
   "source": [
    "np.random.randn(60)"
   ]
  },
  {
   "cell_type": "code",
   "execution_count": 41,
   "id": "58abd603",
   "metadata": {},
   "outputs": [
    {
     "data": {
      "text/plain": [
       "array([3, 6, 9, 5, 2])"
      ]
     },
     "execution_count": 41,
     "metadata": {},
     "output_type": "execute_result"
    }
   ],
   "source": [
    "np.random.seed(121)\n",
    "np.random.randint(1,10,5)"
   ]
  },
  {
   "cell_type": "code",
   "execution_count": null,
   "id": "c17142a2",
   "metadata": {},
   "outputs": [],
   "source": []
  },
  {
   "cell_type": "code",
   "execution_count": null,
   "id": "63a3a0ca",
   "metadata": {},
   "outputs": [],
   "source": []
  }
 ],
 "metadata": {
  "kernelspec": {
   "display_name": "Python 3 (ipykernel)",
   "language": "python",
   "name": "python3"
  },
  "language_info": {
   "codemirror_mode": {
    "name": "ipython",
    "version": 3
   },
   "file_extension": ".py",
   "mimetype": "text/x-python",
   "name": "python",
   "nbconvert_exporter": "python",
   "pygments_lexer": "ipython3",
   "version": "3.8.13"
  }
 },
 "nbformat": 4,
 "nbformat_minor": 5
}
